{
 "cells": [
  {
   "cell_type": "code",
   "execution_count": 3,
   "metadata": {
    "colab": {
     "base_uri": "https://localhost:8080/",
     "height": 85
    },
    "colab_type": "code",
    "id": "qq4y8enYOlwm",
    "outputId": "b07c2f84-4e6e-4e4b-aa6c-5918fc69fba0"
   },
   "outputs": [
    {
     "name": "stderr",
     "output_type": "stream",
     "text": [
      "[nltk_data] Downloading package stopwords to\n",
      "[nltk_data]     /Users/stefantippelt/nltk_data...\n",
      "[nltk_data]   Unzipping corpora/stopwords.zip.\n",
      "[nltk_data] Downloading package punkt to\n",
      "[nltk_data]     /Users/stefantippelt/nltk_data...\n",
      "[nltk_data]   Unzipping tokenizers/punkt.zip.\n",
      "[nltk_data] Downloading package averaged_perceptron_tagger to\n",
      "[nltk_data]     /Users/stefantippelt/nltk_data...\n",
      "[nltk_data]   Unzipping taggers/averaged_perceptron_tagger.zip.\n"
     ]
    }
   ],
   "source": [
    "import gensim\n",
    "import pandas as pd\n",
    "\n",
    "import seaborn as sns\n",
    "import matplotlib.pyplot as plt\n",
    "\n",
    "from pprint import pprint\n",
    "from nltk.probability import FreqDist\n",
    "\n",
    "from gensim import corpora\n",
    "from gensim.utils import simple_preprocess\n",
    "from nltk.tokenize import word_tokenize\n",
    "from smart_open import smart_open\n",
    "import os\n",
    "\n",
    "\n",
    "from nltk.corpus import stopwords\n",
    "# from gensim.utils import simple_preprocess, lemmatize\n",
    "# from gensim.models import LdaModel, LdaMulticore\n",
    "# import re\n",
    "import nltk\n",
    "\n",
    "nltk.download('stopwords')\n",
    "nltk.download('punkt')\n",
    "nltk.download('averaged_perceptron_tagger')\n",
    "\n",
    "\n",
    "stop_words = set(stopwords.words('english'))"
   ]
  },
  {
   "cell_type": "code",
   "execution_count": 28,
   "metadata": {
    "colab": {
     "base_uri": "https://localhost:8080/",
     "height": 122
    },
    "colab_type": "code",
    "id": "MvY-rYh5T6qw",
    "outputId": "aa081345-ee18-4607-e7b6-07a4e173039c"
   },
   "outputs": [
    {
     "name": "stdout",
     "output_type": "stream",
     "text": [
      "greta_thunberg_for_25_years_countless.txt\r\n",
      "greta_thunberg_i_have_some_good_news.txt\r\n",
      "greta_thunberg_my_name_is_greta_thunberg.txt\r\n",
      "greta_thunberg_our_house_is_on_fire.txt\r\n",
      "greta_thunberg_some_people_say_that_we_are_not_doing_enough.txt\r\n",
      "greta_thunberg_when_i_was_about_8_years_old.txt\r\n"
     ]
    }
   ],
   "source": [
    "ls data/"
   ]
  },
  {
   "cell_type": "code",
   "execution_count": 29,
   "metadata": {},
   "outputs": [],
   "source": [
    "entries = os.listdir('data/')"
   ]
  },
  {
   "cell_type": "code",
   "execution_count": 30,
   "metadata": {},
   "outputs": [
    {
     "data": {
      "text/plain": [
       "['greta_thunberg_for_25_years_countless.txt',\n",
       " 'greta_thunberg_my_name_is_greta_thunberg.txt',\n",
       " 'greta_thunberg_i_have_some_good_news.txt',\n",
       " 'greta_thunberg_when_i_was_about_8_years_old.txt',\n",
       " 'greta_thunberg_some_people_say_that_we_are_not_doing_enough.txt',\n",
       " 'greta_thunberg_our_house_is_on_fire.txt']"
      ]
     },
     "execution_count": 30,
     "metadata": {},
     "output_type": "execute_result"
    }
   ],
   "source": [
    "entries"
   ]
  },
  {
   "cell_type": "code",
   "execution_count": 34,
   "metadata": {},
   "outputs": [],
   "source": [
    "content = {}\n",
    "for file in entries:\n",
    "    with open('data/' + file, 'r') as f:\n",
    "        content[file] = f.read()"
   ]
  },
  {
   "cell_type": "code",
   "execution_count": 37,
   "metadata": {
    "colab": {},
    "colab_type": "code",
    "id": "ATnJMElMPaFs"
   },
   "outputs": [],
   "source": [
    "all_speeches_content = \"\"\n",
    "for text in content.values():\n",
    "    all_speeches_content += text"
   ]
  },
  {
   "cell_type": "code",
   "execution_count": 38,
   "metadata": {},
   "outputs": [
    {
     "data": {
      "text/plain": [
       "'For 25 years countless of people have stood in front of the United Nations climate conferences, asking our nations leaders to stop the emissions. But, clearly this has not worked since the emissions just continue to rise.\\n\\nSo I will not ask them anything.\\n\\nInstead I will ask the media to start treating the crisis as a crisis.\\n\\nInstead I will ask the people around the world to realize that our political leaders have failed us.\\n\\nBecause we are facing an existential threat and there is no time to continue down this road of madness.\\n\\nRich countries like Sweden need to start reducing emissions by at least 15% every year to reach the 2 degree warming target. You would think the media and everyone of our leaders would be talking about nothing else – but no one ever even mentions it.\\n\\nNor does hardly anyone ever talk about that we are in the midst of the sixth mass extinction, with up to 200 species going extinct every single day.\\n\\nFurthermore does no one ever speak about the aspect of equity clearly stated everywhere in the Parisagreement, which is absolutely necessary to make it work on a global scale. That means that rich countries like mine need to get down to zero emissions, within 6–12 years with todays emission speed, so that people in poorer countries can highten their standard of living by building some of the infrastructure that we have already built. Such as hospitals, electricity and clean drinking water.\\n\\nBecause how can we expect countries like India, Colombia or Nigeria to care about the climate crisis if we, who already have everything, don’t care even a second about our actual commitments to the Paris agreement?\\n\\nSo when school started in August this year I sat myself down on the ground outside the Swedish parliament. I school striked for the climate.\\n\\nSome people say that I should be in school instead. Some people say that I should study to become a climate scientist so that I can ”solve the climate crisis”. But the climate crisis has already been solved. We already have all the facts and solutions.\\n\\nAnd why should I be studying for a future that soon may be no more, when no one is doing anything to save that future? And what is the point of learning facts when the most important facts clearly means nothing to our society?\\n\\nToday we use 100 million barrels of oil every single day. There are no politics to change that. There are no rules to keep that oil in the ground.\\n\\nSo we can’t save the world by playing by the rules. Because the rules have to be changed.\\n\\nSo we have not come here to beg the world leaders to care for our future. They have ignored us in the past and they will ignore us again.\\n\\nWe have come here to let them know that change is coming whether they like it or not. The people will rise to the challenge. And since our leaders are behaving like children, we will have to take the responsibility they should have taken long ago.\\n\\nThank You!\\n\\n\\n\\nMy name is Greta Thunberg. I am 15 years old and I\\'m from Sweden. I speak on behalf of Climate Justice Now.\\n\\nMany people say that Sweden is just a small country and it doesn\\'t matter what we do. But I\\'ve learned that you are never too small to make a difference and if a few children can get headlines all over the world just by not going to school then imagine what we could all do together if we really wanted to.\\n\\nBut to do that we have to speak clearly. No matter how uncomfortable that may be. You only speak of a green eternal economic growth because you are too scared of being unpopular. You only talk about moving forward with the same bad ideas that got us into this mess. Even when the only sensible thing to do is pull the emergency brake.\\n\\nYou are not mature enough to tell it like it is. Even that burden you leave to us children. But I don\\'t care about being popular. I care about climate justice and the Living Planet. Our civilization is being sacrificed for the opportunity with a very small number of people to continue making enormous amounts of money. Our biosphere is being sacrificed so that rich people in countries like mine can live in luxury. It is the sufferings of the many which pay for the luxuries of the few.\\n\\nThe year 2078 I will celebrate my 75th birthday. If I have children maybe they will spend that day with me. Maybe they will ask me about you. Maybe they will ask why you didn\\'t do anything while there still was time to act. You say you love your children above all else and yet you\\'re stealing their future in front of their very eyes. Until you start focusing on what needs to be done rather than what is politically possible there is no hope.\\n\\nWe cannot solve a crisis without treating it as a crisis. We need to keep the fossil fuels in the ground and we need to focus on equity. And if solutions within this system are so impossible to find then maybe we should change the system itself. We have not come here to beg world leaders to care. You have ignored us in the past and you will ignore us again. We have run out of excuses and we are running out of time. We have come here to let you know that change is coming whether you like it or not. The real power belongs to the people!\\nThank You!\\n\\nI have some good news and some bad news regarding the climate emergency. I will start with the good news.\\n\\nThe world, as a small number of people have been saying lately, will not end in 11 years.\\n\\nThe bad news however is that around the year 2030, if we continue with business as usual, we will likely be in a position where we may pass a number of tipping points. And then we might no longer be able to undo the irreversible climate breakdown.\\n\\nA lot of people, a lot of politicians, business leaders, journalists say they don\\'t agree with what we are saying. They say we children are exaggerating, that we are alarmists. To answer this I would like to refer to page 108, chapter 2 in the latest IPCC report. There you will find all our \"opinions\" summarized, because there you find a remaining carbon dioxide budget. Right there it says that if we are to have a sixtyseven percent chance of limiting the global temperature rise to below 1.5 degrees, we had on January 1st 2018, 420 gigatons of carbon dioxide left in our CO2 budget. And of course that number is much lower today. We emit about 42 gigatons of CO2 every year.\\n\\nAt current emissions levels, that remaining budget is gone within roughly eight and a half years. These numbers are as real as it gets, though a great number of scientists suggests that they are too generous, these are the ones that have been accepted by all nations through the IPCC.\\n\\nAnd not once, not one single time have I heard any politician, journalists or business leader even mention these numbers. It is almost like you don\\'t even know they exist, as if you haven\\'t even read the latest IPCC reports on which the future of our civilization is depending.\\n\\nOr maybe you are simply not mature enough to tell it like it is. Because even that burden you leave to us children. We become the bad guys who have to tell people these uncomfortable things, because no one else wants to or dares to. And just for quoting and acting on these numbers, these scientific facts, we receive unimaginable amounts of hate and threats. We are being mocked and lied about by elected officials, members of Parliament\\'s, business leaders, journalists. What I really would like to ask all of those who question our so-called \"opinions\" or think that we are extreme: - Do you have a different budget for at least a reasonable chance of staying below the 1.5 degrees of warming limit? Is there another intergovernmental panel on climate change? Is there a secret Paris agreement that we don\\'t know about? One that not declude the aspect of equity? Because these are the numbers that counts, this is the current best available science. You can\\'t simply make up your own facts just because you don\\'t like what you hear.\\n\\nThere is no middle ground when it comes to the climate and ecological emergency. Of course you could argue that we should go for a more risky pathway, such as the alternative of 580 gigatons of CO2 from january 1st 2018, which gives us a 50/50 percent chance of limiting the global temperature rise to below 1.5 degrees. That amount of carbon dioxide will run out in about 12 years of current business as usual. But why should we do that, why should we accept taking that risk, leaving the future living conditions for humankind to a 50/50 flip of a coin. 420 gigatons left of CO2 to emit. And now that number is down to less than 360 gigatons. And please note that these figures are global and therefore do not say anything about the aspect of equity, clearly stated throughout the Paris agreement, which is absolutely necessary to make it work on a global scale. That means that richer countries need to get down to zero emissions faster, so the people in poorer parts of the world can heighten their standard of living by building some of the infrastructure that we have already built, such as roads, hospitals, electricity, schools and providing clean drinking water.\\n\\nAnd because you have ignored these facts, because you and pretty much all of the media to this very minute, keep ignoring them, people do not know what is going on. If you respect the science, if you understand the science, then this is it. 420 gigatons of CO2 left to emit on January 1st to have a sixtyseven percent chance of staying below a 1.5 degrees of global temperature rise, according to the IPCC.\\n\\nIn the Paris agreement we have only signed up for staying below 1.5 to 2 degrees of temperature rise. And that of course gives us a bigger remaining carbon dioxide budget. But the latest IPCC report shows that aiming instead for below 1.5 degrees would significantly reduce the climate impacts, and that would most certainly save countless of human lives.\\n\\nThis is what it\\'s all about, this is all that we are saying. But I will also tell you this: -You cannot solve the crisis without treating it as a crisis, without seeing the full picture. You cannot leave the responsibility to individuals, politicians, the market or other parts of the world to take. This has to include everything and everyone.\\n\\nOnce you realize how painfully small the size of our remaining carbon dioxide budget is, once you realize how fast it is disappearing, once you realize that basically nothing is being done about it and once you realize that almost no one is even aware of the fact that carbon dioxide budgets even exists, then tell me what exactly do you do? And how do we do it without sounding alarmist? That is the question we must ask ourselves, and the people in power.\\n\\nThe science is clear and all we children are doing is communicating and acting on that united science. Now political leaders in some countries are starting to talk. They are starting to declare climate emergencies and announcing dates for so-called climate neutrality. And declaring a climate emergency is good. But only setting up these vague, distant dates and saying things which give the impression of that things are being done and that action is on the way, will most likely do more harm than good. Because of the changes required are still nowhere in sight. Not in France, not in the EU, nowhere. And I believe that the biggest danger is not our inaction. The real danger is when companies and politicians are making it look like real action is happening, when in fact almost nothing is being done, apart from clever accounting and creative PR.\\n\\nThe climate and ecological emergency is right here, right now. But it has only just begun, it will get worse. 420 gigatons of CO2 left to emit on January 1st 2018 to have a 67 percent chance of staying below a 1.5 degrees of global temperature rise. And now that figure is already down to less than 360 gigatons.\\n\\nAt current emissions levels that remaining budgets is gone within roughly eight and a half years. In fact, since I started this speech the world has emitted about 800,000 tons of carbon dioxide. And if anyone still has excuses not to listen, not to act, not to care, I ask you once again: -Is there another Intergovernmental Panel on Climate Change? Is there a secret Paris agreement that we don\\'t know about? One that does not include the aspect of equity? Do you have a different budget for at least a reasonable chance of staying below 1.5 degrees of global temperature rise? Some people have chosen not to come here today, some people have chosen not to listen to us, and that is fine, we are after all just children. You don\\'t have to listen to us, but you do have to listen to the United science, the scientists. And that is all we ask, just unite behind the science!\\n\\nWhen I was about 8 years old I first heard about something called climate change or global warming. Apparently that was something humans had created by our way of living. I was told to turn off the lights to save energy and to recycle paper to save resources.\\n\\nI remember thinking that it was very strange that humans who are an animal species among others could be capable of changing the Earth\\'s climate. Because if we were and if it was really happening we wouldn\\'t be talking about anything else. As soon as you turn on the TV everything would be about that. Headlines, radio, newspapers, you would never read or hear about anything else. As if there was a world war going on.\\n\\nBut no one ever talked about it. If burning fossil fuels was so bad that it threatened our very existence, how could we just continue like before? Why were there no restrictions? Why wasn\\'t it made illegal? To me that did not add up, it was too unreal.\\n\\nSo when I was 11 I became ill. I fell into depression. I stopped talking and I stopped eating. In two months I lost about 10 kilos of weight. Later on I was diagnosed with Asperger\\'s syndrome OCD and selective mutism. That basically means I only speak when I think it is necessary. Now is one of those moments.\\n\\nFor those of us who are on the spectrum, almost everything is black or white. We aren\\'t very good at lying and we usually don\\'t enjoy participating in the social game that the rest of you seem so fond of. I think in many ways that we artistic are the normal ones and the rest of the people are pretty strange. Especially when it comes to the sustainability crisis, where everyone keeps saying that climate change is an existential threat and the most important issue of all. And yet they just carry on like before.\\n\\nI don\\'t understand that, because if the emissions have to stop, then we must stop the emissions. To me that is black or white. There are no gray areas when it comes to survival. Either we go on as a civilization or we don\\'t. We have to change.\\n\\nRich countries like Sweden need to start reducing emissions by at least 15 percent every year. And that is so that we can stay below a two degree warming target. Yet, as the IPCC have recently demonstrated, aming instead for 1.5 degrees Celsius would significantly reduce the climate impacts. But we can only imagine what that means for reducing emissions.\\n\\nYou would think the media and every one of our leaders would be talking about nothing else, but they never even mention it. Nor does anyone ever mention the greenhouse gases already locked in the system. Nor that air pollution is hiding a warming, so that when we stop burning fossil fuels, we already have an extra level of warming, perhaps as high as 0.5 to 1.1 degrees Celsius.\\n\\nFurthermore does hardly anyone speak about the fact that we are in the midst of the sixth mass extinction. With up to 200 species going extinct every single day. That the extinction rate is today between 1000 and 10,000 times higher than what is seen as normal.\\n\\nNor does hardly anyone ever speak about the aspect of equity or climate justice, clearly stated everywhere in the Paris agreement, which is absolutely necessary to make it work on a global scale. That means that rich countries need to get down to zero emissions within 6 to 12 years with today\\'s emission speed. And that is so that people in poorer countries can have a chance to heighten the standard of living by building some of the infrastructure that we have already built, such as roads, schools, hospitals, clean drinking water, electricity and so on.\\n\\nBecause how can we expect countries like India or Nigeria to care about the climate crisis if we who already have everything don\\'t care even a second about it, or our actual commitments to the Paris agreement. So why are we not reducing our emissions? Why are they in fact still increasing? Are we knowingly causing a mass extinction? Are we evil?\\n\\nNo of course not. People keep doing what they do because the vast majority doesn\\'t have a clue about the actual consequences of our everyday life. And they don\\'t know that rapid change is required. We all think we know and we all think everybody knows. But we don\\'t. Because how could we?\\n\\nIf there really was a crisis and if this crisis was caused by our emissions, you would at least see some signs. Not just flooded cities, tens of thousands of dead people and whole nations leveled to piles of torn down buildings. You would see some restrictions. But no. And no one talks about it.\\n\\nThere are no emergency meetings, no headlines, no breaking news. No one is acting as if we were in a crisis. Even most climate scientists or green politicians keep on flying around the world, eating meat and dairy.\\n\\nIf I live to be 100, I will be alive in the year 2103. When you think about the future today, you don\\'t think beyond the year 2050. By then, I will in the best case, not even have lived half of my life. What happens next?\\n\\nThe year 2078 I will celebrate my 75th birthday. If I have children or grandchildren, maybe they will spend that day with me. Maybe they will ask me about you, the people who were around back in 2018. Maybe they will ask why you didn\\'t do anything while this still was time to act?\\n\\nWhat we do or don\\'t do right now will affect my entire life and the lives of my children and grandchildren. What we do or don\\'t do right now, me and my generation can\\'t undo in the future.\\n\\nSo when school started in August of this year I decided that this was enough. I sat myself down on the ground outside the Swedish parliament. I school striked for the climate.\\n\\nSome people say that I should be in school instead. Some people say that I should study to become a climate scientist so that I can \"solve\" the climate crisis. But the climate crisis has already been solved. We already have all the facts and solutions. All we have to do is to wake up and change.\\n\\nAnd why should I be studying for if future that soon will be no more? When no one is doing anything whatsoever to save that future? And what is the point of learning facts in the school system, when the most important facts, given by the finest science of that same school system, clearly means nothing to our politicians and our society?\\n\\nSome people say that Sweden is just a small country and that it doesn\\'t matter what we do. But I think that if a few children can get headlines all over the world just by not coming to school for a few weeks, imagine what we could all do together if you wanted to.\\n\\nNow we\\'re almost at the end of my talk and this is where people usually start talking about hope - solar panels, wind power, circular economy and so on.\\n\\nBut I\\'m not going to do that. We\\'ve had 30 years of pep talking and selling positive ideas and I\\'m sorry but it doesn\\'t work. Because if it would have, the emissions would have gone down by now. They haven\\'t. And yes, we do need hope, of course we do. But the one thing we need more than hope is action. Once we start to act, hope is everywhere.\\n\\nSo instead of looking for hope, look for action. Then, and only then hope will come.\\n\\nToday we use 100 million barrels of oil every single day. There are no politics to change that. There are no rules to keep that oil in the ground. So we can\\'t save the world by playing by the rules. Because the rules have to be changed.\\n\\nEverything needs to change. And it has to start today.\\n\\nThank you!\\nSome people say that we are not doing enough to fight climate change. But that is not true. Because to \"not do enough\" you have to do something. And the truth is we are basically not doing anything.\\n\\nYes, some people are doing more than they can but they are too few or too far away from power to make a difference today.\\n\\nSome people say that the climate crisis is something that we all have created. But that is just another convenient lie. Because if everyone is guilty then no one is to blame.\\n\\nAnd someone is to blame. Some people - some companies and some decision m akers in particular - has known exactly what priceless values they are sacrificing to continue making unimaginable amounts of money.\\n\\nI want to challenge those companies and those decision makers into real and bold climate action. To set their economic goals aside and to safeguard the future living conditions for human kind.\\n\\nI don\\'t believe for one secondthat you will rise to that challenge. But I want to ask you all the same.\\n\\nI ask you to prove me wrong. For the sake of your children, for the sake of your grandchildren. For the sake of life and this beautiful living planet.\\n\\nI ask you to stand on the right side of history. I ask you to pledge to do everything in your power to push your own business or government in line with a 1.5 degree world.\\n\\nWill you pledge to do that? Will you pledge to join me, and the people all around the world in doing whatever it takes.\\nOur house is on fire, I am here to say our house is on fire. According to the IPCC we are less than 12 years away from not being able to undo our mistakes.\\n\\nIn that time unprecedented changes in all aspects of society needs to have taken place including a reduction of our co2 emissions by at least 50% and please note that those numbers do not include the aspect of equity which is absolutely necessary to make the Paris agreement work on a global scale. Nor does it include tipping points or feedback loops like the extreme powerful methane gas being released from the thawing Arctic permafrost.\\n\\nAt places like Davos people like to tell success stories but their financial success has come with an unthinkable price tag. And on climate change we have to acknowledge that we have failed. All political movements in their present form have done so. And the media has failed to create broad public awareness. But Homo sapiens have not yet failed. Yes we are failing but there is still time to turn everything around we can still fix this, we still have everything in our own hands. But unless we recognize the overall failures of our current systems we must probably those probably don\\'t stand a chance.\\n\\nWe are facing a disaster of unspoken sufferings for enormous amounts of people and now is not the time for speaking politely, we\\'re focusing on what we can or cannot say. Now it\\'s the time to speak clearly. Solving the client crisis is the greatest and most complex challenge that Homo sapiens has have ever faced.\\n\\nThe main solution however is so simple that even a small child can understand it. We have to stop the emissions of greenhouse gases. And either we do that or we don\\'t. You say nothing in life is black or white but that is a lie, a very dangerous lie. Either we prevent a 1.5 degree of warming or we don\\'t. Either we avoid setting off that irreversible chain reaction beyond the human control, or we don\\'t. Either we choose to go on as a civilization or we don\\'t. That is as black or white as it gets.\\n\\nThere are no gray areas when it comes to survival. Now we all have a choice. We can create transformational action that will safeguard the future living conditions for humankind, or we can continue with our business as usual and fail. That is up to you and me.\\n\\nSome say that we should not engage in activism, instead we should leave everything to our politicians and just vote for change instead. But what do we do when there is no political will? What do we do when the politics needn\\'t are nowhere in sight?\\n\\nHere in Davos, just like everywhere else, everyone is talking about money. It seems that money and growth are our only main concerns. And since the climate crisis is a crisis that has never once been treated as a crisis, people are simply not aware of the full consequences of our everyday life.\\n\\nPeople are not aware that there is such a thing as a carbon budget, and just how incredible small that remaining carbon budget is. And that needs to change today. No other current challenge can match the importance of establishing a wide public awareness and understanding of our rapidly disappearing carbon budgets that should and must become a new global currency in the very heart of future and present economics.\\n\\nWe are now at a time in history where everyone with any insight of the climate crisis that threatens our civilization and the entire biosphere must speak out in clear language, no matter how uncomfortable and unprofitable that may be. We must change almost everything in our current societies. The bigger your carbon footprint is, the bigger your moral duty. The bigger your platform the bigger your responsibility.\\n\\nAdults keep saying we owe it to the young people to give them hope. But I don\\'t want your hope, I don\\'t want you to be hopeful. I want you to panic, I want you to feel the fear I feel every day. And then I want you to act, I want you to act as if you would in a crisis. I want you to act as if the house was on fire, because it is.\\n\\n\\n'"
      ]
     },
     "execution_count": 38,
     "metadata": {},
     "output_type": "execute_result"
    }
   ],
   "source": [
    "all_speeches_content"
   ]
  },
  {
   "cell_type": "code",
   "execution_count": 39,
   "metadata": {
    "colab": {},
    "colab_type": "code",
    "id": "tASevXRrRc4n"
   },
   "outputs": [],
   "source": [
    "# Tokenize sentences into words\n",
    "words = word_tokenize(all_speeches_content)"
   ]
  },
  {
   "cell_type": "code",
   "execution_count": 50,
   "metadata": {},
   "outputs": [],
   "source": [
    "# TODO: check why stopwords are still there"
   ]
  },
  {
   "cell_type": "code",
   "execution_count": 40,
   "metadata": {
    "colab": {},
    "colab_type": "code",
    "id": "dmkB46rIvMGK"
   },
   "outputs": [],
   "source": [
    "def preprocess_words(words, stop_words):\n",
    "    cleaned_words = []\n",
    "    for word in words:\n",
    "        if word not in stop_words and word.isalpha():\n",
    "            cleaned_words.append(word.lower())\n",
    "    return cleaned_words"
   ]
  },
  {
   "cell_type": "code",
   "execution_count": 41,
   "metadata": {
    "colab": {},
    "colab_type": "code",
    "id": "leYQKookv4ml"
   },
   "outputs": [],
   "source": [
    "cleaned_words = preprocess_words(words=words, stop_words=stop_words)"
   ]
  },
  {
   "cell_type": "code",
   "execution_count": 42,
   "metadata": {
    "colab": {
     "base_uri": "https://localhost:8080/",
     "height": 54
    },
    "colab_type": "code",
    "id": "uoKE69cAyFLQ",
    "outputId": "f05fea0d-510f-4cb1-8977-f52a83f3fa67"
   },
   "outputs": [
    {
     "data": {
      "text/plain": [
       "dict_keys(['for', 'years', 'countless', 'people', 'stood', 'front', 'united', 'nations', 'climate', 'conferences', 'asking', 'leaders', 'stop', 'emissions', 'but', 'clearly', 'worked', 'since', 'continue', 'rise', 'so', 'i', 'ask', 'anything', 'instead', 'media', 'start', 'treating', 'crisis', 'around', 'world', 'realize', 'political', 'failed', 'us', 'because', 'facing', 'existential', 'threat', 'time', 'road', 'madness', 'rich', 'countries', 'like', 'sweden', 'need', 'reducing', 'least', 'every', 'year', 'reach', 'degree', 'warming', 'target', 'you', 'would', 'think', 'everyone', 'talking', 'nothing', 'else', 'one', 'ever', 'even', 'mentions', 'nor', 'hardly', 'anyone', 'talk', 'midst', 'sixth', 'mass', 'extinction', 'species', 'going', 'extinct', 'single', 'day', 'furthermore', 'speak', 'aspect', 'equity', 'stated', 'everywhere', 'parisagreement', 'absolutely', 'necessary', 'make', 'work', 'global', 'scale', 'that', 'means', 'mine', 'get', 'zero', 'within', 'todays', 'emission', 'speed', 'poorer', 'highten', 'standard', 'living', 'building', 'infrastructure', 'already', 'built', 'such', 'hospitals', 'electricity', 'clean', 'drinking', 'water', 'expect', 'india', 'colombia', 'nigeria', 'care', 'everything', 'second', 'actual', 'commitments', 'paris', 'agreement', 'school', 'started', 'august', 'sat', 'ground', 'outside', 'swedish', 'parliament', 'striked', 'some', 'say', 'study', 'become', 'scientist', 'solve', 'solved', 'we', 'facts', 'solutions', 'and', 'studying', 'future', 'soon', 'may', 'save', 'point', 'learning', 'important', 'society', 'today', 'use', 'million', 'barrels', 'oil', 'there', 'politics', 'change', 'rules', 'keep', 'playing', 'changed', 'come', 'beg', 'they', 'ignored', 'past', 'ignore', 'let', 'know', 'coming', 'whether', 'the', 'challenge', 'behaving', 'children', 'take', 'responsibility', 'taken', 'long', 'ago', 'thank', 'my', 'name', 'greta', 'thunberg', 'old', 'behalf', 'justice', 'now', 'many', 'small', 'country', 'matter', 'learned', 'never', 'difference', 'headlines', 'imagine', 'could', 'together', 'really', 'wanted', 'no', 'uncomfortable', 'green', 'eternal', 'economic', 'growth', 'scared', 'unpopular', 'moving', 'forward', 'bad', 'ideas', 'got', 'mess', 'sensible', 'thing', 'pull', 'emergency', 'brake', 'mature', 'enough', 'tell', 'burden', 'leave', 'popular', 'planet', 'our', 'civilization', 'sacrificed', 'opportunity', 'number', 'making', 'enormous', 'amounts', 'money', 'biosphere', 'live', 'luxury', 'it', 'sufferings', 'pay', 'luxuries', 'celebrate', 'birthday', 'if', 'maybe', 'spend', 'still', 'act', 'love', 'yet', 'stealing', 'eyes', 'until', 'focusing', 'needs', 'done', 'rather', 'politically', 'possible', 'hope', 'without', 'fossil', 'fuels', 'focus', 'system', 'impossible', 'find', 'run', 'excuses', 'running', 'real', 'power', 'belongs', 'good', 'news', 'regarding', 'saying', 'lately', 'end', 'however', 'business', 'usual', 'likely', 'position', 'pass', 'tipping', 'points', 'might', 'longer', 'able', 'undo', 'irreversible', 'breakdown', 'a', 'lot', 'politicians', 'journalists', 'agree', 'exaggerating', 'alarmists', 'to', 'answer', 'refer', 'page', 'chapter', 'latest', 'ipcc', 'report', 'opinions', 'summarized', 'remaining', 'carbon', 'dioxide', 'budget', 'right', 'says', 'sixtyseven', 'percent', 'chance', 'limiting', 'temperature', 'degrees', 'january', 'gigatons', 'left', 'course', 'much', 'lower', 'emit', 'at', 'current', 'levels', 'gone', 'roughly', 'eight', 'half', 'these', 'numbers', 'gets', 'though', 'great', 'scientists', 'suggests', 'generous', 'ones', 'accepted', 'heard', 'politician', 'leader', 'mention', 'almost', 'exist', 'read', 'reports', 'depending', 'or', 'simply', 'guys', 'things', 'wants', 'dares', 'quoting', 'acting', 'scientific', 'receive', 'unimaginable', 'hate', 'threats', 'mocked', 'lied', 'elected', 'officials', 'members', 'what', 'question', 'extreme', 'do', 'different', 'reasonable', 'staying', 'limit', 'is', 'another', 'intergovernmental', 'panel', 'secret', 'declude', 'counts', 'best', 'available', 'science', 'ca', 'hear', 'middle', 'comes', 'ecological', 'of', 'argue', 'go', 'risky', 'pathway', 'alternative', 'gives', 'amount', 'accept', 'taking', 'risk', 'leaving', 'conditions', 'humankind', 'flip', 'coin', 'less', 'please', 'note', 'figures', 'therefore', 'throughout', 'richer', 'faster', 'parts', 'heighten', 'roads', 'schools', 'providing', 'pretty', 'minute', 'ignoring', 'respect', 'understand', 'according', 'in', 'signed', 'bigger', 'shows', 'aiming', 'significantly', 'reduce', 'impacts', 'certainly', 'human', 'lives', 'this', 'also', 'seeing', 'full', 'picture', 'individuals', 'market', 'include', 'once', 'painfully', 'size', 'fast', 'disappearing', 'basically', 'aware', 'fact', 'budgets', 'exists', 'exactly', 'sounding', 'alarmist', 'must', 'clear', 'communicating', 'starting', 'declare', 'emergencies', 'announcing', 'dates', 'neutrality', 'declaring', 'setting', 'vague', 'distant', 'give', 'impression', 'action', 'way', 'harm', 'changes', 'required', 'nowhere', 'sight', 'not', 'france', 'eu', 'believe', 'biggest', 'danger', 'inaction', 'companies', 'look', 'happening', 'apart', 'clever', 'accounting', 'creative', 'pr', 'begun', 'worse', 'figure', 'speech', 'emitted', 'tons', 'listen', 'chosen', 'fine', 'unite', 'behind', 'when', 'first', 'something', 'called', 'apparently', 'humans', 'created', 'told', 'turn', 'lights', 'energy', 'recycle', 'paper', 'resources', 'remember', 'thinking', 'strange', 'animal', 'among', 'others', 'capable', 'changing', 'earth', 'as', 'tv', 'radio', 'newspapers', 'war', 'talked', 'burning', 'threatened', 'existence', 'why', 'restrictions', 'made', 'illegal', 'add', 'unreal', 'became', 'ill', 'fell', 'depression', 'stopped', 'eating', 'two', 'months', 'lost', 'kilos', 'weight', 'later', 'diagnosed', 'asperger', 'syndrome', 'ocd', 'selective', 'mutism', 'moments', 'spectrum', 'black', 'white', 'lying', 'usually', 'enjoy', 'participating', 'social', 'game', 'rest', 'seem', 'fond', 'ways', 'artistic', 'normal', 'especially', 'sustainability', 'keeps', 'issue', 'carry', 'gray', 'areas', 'survival', 'either', 'stay', 'recently', 'demonstrated', 'aming', 'celsius', 'greenhouse', 'gases', 'locked', 'air', 'pollution', 'hiding', 'extra', 'level', 'perhaps', 'high', 'with', 'rate', 'times', 'higher', 'seen', 'increasing', 'are', 'knowingly', 'causing', 'evil', 'vast', 'majority', 'clue', 'consequences', 'everyday', 'life', 'rapid', 'everybody', 'knows', 'caused', 'see', 'signs', 'flooded', 'cities', 'tens', 'thousands', 'dead', 'whole', 'leveled', 'piles', 'torn', 'buildings', 'talks', 'meetings', 'breaking', 'flying', 'meat', 'dairy', 'alive', 'beyond', 'by', 'case', 'lived', 'happens', 'next', 'grandchildren', 'back', 'affect', 'entire', 'generation', 'decided', 'all', 'wake', 'whatsoever', 'given', 'finest', 'weeks', 'solar', 'panels', 'wind', 'circular', 'economy', 'pep', 'selling', 'positive', 'sorry', 'yes', 'looking', 'then', 'fight', 'true', 'truth', 'far', 'away', 'convenient', 'lie', 'guilty', 'blame', 'someone', 'decision', 'akers', 'particular', 'known', 'priceless', 'values', 'sacrificing', 'want', 'makers', 'bold', 'set', 'goals', 'aside', 'safeguard', 'kind', 'secondthat', 'prove', 'wrong', 'sake', 'beautiful', 'stand', 'side', 'history', 'pledge', 'push', 'government', 'line', 'will', 'join', 'whatever', 'takes', 'house', 'fire', 'mistakes', 'unprecedented', 'aspects', 'place', 'including', 'reduction', 'feedback', 'loops', 'powerful', 'methane', 'gas', 'released', 'thawing', 'arctic', 'permafrost', 'places', 'davos', 'success', 'stories', 'financial', 'unthinkable', 'price', 'tag', 'acknowledge', 'movements', 'present', 'form', 'create', 'broad', 'public', 'awareness', 'homo', 'sapiens', 'failing', 'fix', 'hands', 'unless', 'recognize', 'overall', 'failures', 'systems', 'probably', 'disaster', 'unspoken', 'speaking', 'politely', 'solving', 'client', 'greatest', 'complex', 'faced', 'main', 'solution', 'simple', 'child', 'dangerous', 'prevent', 'avoid', 'chain', 'reaction', 'control', 'choose', 'choice', 'transformational', 'fail', 'engage', 'activism', 'vote', 'here', 'seems', 'concerns', 'treated', 'incredible', 'match', 'importance', 'establishing', 'wide', 'understanding', 'rapidly', 'new', 'currency', 'heart', 'economics', 'insight', 'threatens', 'language', 'unprofitable', 'societies', 'footprint', 'moral', 'duty', 'platform', 'adults', 'owe', 'young', 'hopeful', 'panic', 'feel', 'fear'])"
      ]
     },
     "execution_count": 42,
     "metadata": {},
     "output_type": "execute_result"
    }
   ],
   "source": [
    "FreqDist(cleaned_words).keys()"
   ]
  },
  {
   "cell_type": "code",
   "execution_count": 43,
   "metadata": {
    "colab": {},
    "colab_type": "code",
    "id": "eN3eoqgVXR11"
   },
   "outputs": [],
   "source": [
    "word_counts = pd.Series(FreqDist(cleaned_words)).sort_values(ascending=False)"
   ]
  },
  {
   "cell_type": "code",
   "execution_count": null,
   "metadata": {},
   "outputs": [],
   "source": [
    "# TODO: Remove stopwords"
   ]
  },
  {
   "cell_type": "code",
   "execution_count": 44,
   "metadata": {
    "colab": {
     "base_uri": "https://localhost:8080/",
     "height": 295
    },
    "colab_type": "code",
    "id": "RCcETzuQyYgo",
    "outputId": "49610520-32d5-45f6-aae0-96bcc90bdb2e"
   },
   "outputs": [
    {
     "data": {
      "image/png": "[encoded data removed]",
      "text/plain": [
       "<Figure size 432x288 with 1 Axes>"
      ]
     },
     "metadata": {
      "needs_background": "light"
     },
     "output_type": "display_data"
    }
   ],
   "source": [
    "fig, ax = plt.subplots()\n",
    "sns.barplot(y=word_counts[:20].index, x=word_counts[:20].values, palette=\"rocket\")\n",
    "ax.set_title(\"Top 20 words used\");\n",
    "ax.set_xlabel(\"Count\");\n",
    "ax.set_ylabel(\"Words\");"
   ]
  },
  {
   "cell_type": "code",
   "execution_count": 45,
   "metadata": {
    "colab": {},
    "colab_type": "code",
    "id": "V_mHdulo0o3w"
   },
   "outputs": [],
   "source": [
    "word_tags = nltk.pos_tag(cleaned_words)"
   ]
  },
  {
   "cell_type": "code",
   "execution_count": 46,
   "metadata": {
    "colab": {
     "base_uri": "https://localhost:8080/",
     "height": 187
    },
    "colab_type": "code",
    "id": "G0UMtqmncoQj",
    "outputId": "1ca2c96b-2bf9-4ab8-859d-2cd1013d2bbe"
   },
   "outputs": [
    {
     "data": {
      "text/plain": [
       "[('for', 'IN'),\n",
       " ('years', 'NNS'),\n",
       " ('countless', 'JJ'),\n",
       " ('people', 'NNS'),\n",
       " ('stood', 'VBD'),\n",
       " ('front', 'JJ'),\n",
       " ('united', 'JJ'),\n",
       " ('nations', 'NNS'),\n",
       " ('climate', 'NN'),\n",
       " ('conferences', 'NNS')]"
      ]
     },
     "execution_count": 46,
     "metadata": {},
     "output_type": "execute_result"
    }
   ],
   "source": [
    "word_tags[:10]"
   ]
  },
  {
   "cell_type": "code",
   "execution_count": 47,
   "metadata": {
    "colab": {},
    "colab_type": "code",
    "id": "pxZClYdHi5ap"
   },
   "outputs": [],
   "source": [
    "nouns = [word[0] for word in word_tags if word[1] == 'NN']"
   ]
  },
  {
   "cell_type": "code",
   "execution_count": 48,
   "metadata": {
    "colab": {},
    "colab_type": "code",
    "id": "BTdMTDTlc_AE"
   },
   "outputs": [],
   "source": [
    "noun_counts = pd.Series(FreqDist(nouns)).sort_values(ascending=False)"
   ]
  },
  {
   "cell_type": "code",
   "execution_count": 49,
   "metadata": {
    "colab": {
     "base_uri": "https://localhost:8080/",
     "height": 295
    },
    "colab_type": "code",
    "id": "W5NQEhwCXdjb",
    "outputId": "3e0a3205-a71f-4528-9e08-59e5feac2516"
   },
   "outputs": [
    {
     "data": {
      "image/png": "[encoded data removed]",
      "text/plain": [
       "<Figure size 432x288 with 1 Axes>"
      ]
     },
     "metadata": {
      "needs_background": "light"
     },
     "output_type": "display_data"
    }
   ],
   "source": [
    "fig, ax = plt.subplots()\n",
    "sns.barplot(y=noun_counts[:20].index, x=noun_counts[:20].values, palette=\"rocket\")\n",
    "ax.set_title(\"Top 20 nouns used\");\n",
    "ax.set_xlabel(\"Count\");\n",
    "ax.set_ylabel(\"Words\");"
   ]
  },
  {
   "cell_type": "code",
   "execution_count": null,
   "metadata": {
    "colab": {
     "base_uri": "https://localhost:8080/",
     "height": 11713
    },
    "colab_type": "code",
    "id": "VrxvKm2kQThE",
    "outputId": "39575f67-1b35-40c6-ad05-422f60302b0b"
   },
   "outputs": [],
   "source": []
  },
  {
   "cell_type": "code",
   "execution_count": 0,
   "metadata": {
    "colab": {},
    "colab_type": "code",
    "id": "PzUz_cYrQ4rj"
   },
   "outputs": [],
   "source": []
  }
 ],
 "metadata": {
  "colab": {
   "collapsed_sections": [],
   "name": "speech_exploration.ipynb",
   "provenance": []
  },
  "kernelspec": {
   "display_name": "hacking",
   "language": "python",
   "name": "hacking"
  },
  "language_info": {
   "codemirror_mode": {
    "name": "ipython",
    "version": 3
   },
   "file_extension": ".py",
   "mimetype": "text/x-python",
   "name": "python",
   "nbconvert_exporter": "python",
   "pygments_lexer": "ipython3",
   "version": "3.7.2"
  }
 },
 "nbformat": 4,
 "nbformat_minor": 1
}
