{
 "cells": [
  {
   "cell_type": "code",
   "execution_count": 3,
   "metadata": {
    "colab": {
     "base_uri": "https://localhost:8080/",
     "height": 85
    },
    "colab_type": "code",
    "id": "qq4y8enYOlwm",
    "outputId": "b07c2f84-4e6e-4e4b-aa6c-5918fc69fba0"
   },
   "outputs": [
    {
     "name": "stderr",
     "output_type": "stream",
     "text": [
      "[nltk_data] Downloading package stopwords to\n",
      "[nltk_data]     /Users/stefantippelt/nltk_data...\n",
      "[nltk_data]   Unzipping corpora/stopwords.zip.\n",
      "[nltk_data] Downloading package punkt to\n",
      "[nltk_data]     /Users/stefantippelt/nltk_data...\n",
      "[nltk_data]   Unzipping tokenizers/punkt.zip.\n",
      "[nltk_data] Downloading package averaged_perceptron_tagger to\n",
      "[nltk_data]     /Users/stefantippelt/nltk_data...\n",
      "[nltk_data]   Unzipping taggers/averaged_perceptron_tagger.zip.\n"
     ]
    }
   ],
   "source": [
    "import gensim\n",
    "import pandas as pd\n",
    "\n",
    "from pprint import pprint\n",
    "from nltk.probability import FreqDist\n",
    "\n",
    "from gensim import corpora\n",
    "from gensim.utils import simple_preprocess\n",
    "from nltk.tokenize import word_tokenize\n",
    "from smart_open import smart_open\n",
    "import os\n",
    "\n",
    "\n",
    "from nltk.corpus import stopwords\n",
    "# from gensim.utils import simple_preprocess, lemmatize\n",
    "# from gensim.models import LdaModel, LdaMulticore\n",
    "# import re\n",
    "import nltk\n",
    "\n",
    "nltk.download('stopwords')\n",
    "nltk.download('punkt')\n",
    "nltk.download('averaged_perceptron_tagger')\n",
    "\n",
    "\n",
    "stop_words = set(stopwords.words('english'))"
   ]
  },
  {
   "cell_type": "code",
   "execution_count": 7,
   "metadata": {
    "colab": {
     "base_uri": "https://localhost:8080/",
     "height": 122
    },
    "colab_type": "code",
    "id": "MvY-rYh5T6qw",
    "outputId": "aa081345-ee18-4607-e7b6-07a4e173039c"
   },
   "outputs": [
    {
     "name": "stdout",
     "output_type": "stream",
     "text": [
      "data/greta_thunberg_for_25_years_countless.txt\r\n"
     ]
    }
   ],
   "source": [
    "ls data/greta_thunberg_for_25_years_countless.txt"
   ]
  },
  {
   "cell_type": "code",
   "execution_count": 8,
   "metadata": {
    "colab": {},
    "colab_type": "code",
    "id": "ATnJMElMPaFs"
   },
   "outputs": [],
   "source": [
    "with open('data/greta_thunberg_for_25_years_countless.txt', 'r') as f:\n",
    "  content = f.read()"
   ]
  },
  {
   "cell_type": "code",
   "execution_count": 9,
   "metadata": {
    "colab": {},
    "colab_type": "code",
    "id": "tASevXRrRc4n"
   },
   "outputs": [],
   "source": [
    "# Tokenize sentences into words\n",
    "words = word_tokenize(content)\n",
    "\n",
    "# cleaned_words = []\n",
    "# for word in words:\n",
    "#     if word not in stop_words and word.isalpha():\n",
    "#         cleaned_words.append(word.lower())"
   ]
  },
  {
   "cell_type": "code",
   "execution_count": 10,
   "metadata": {
    "colab": {},
    "colab_type": "code",
    "id": "dmkB46rIvMGK"
   },
   "outputs": [],
   "source": [
    "def preprocess_words(words, stop_words):\n",
    "    cleaned_words = []\n",
    "    for word in words:\n",
    "        if word not in stop_words and word.isalpha():\n",
    "            cleaned_words.append(word.lower())\n",
    "    return cleaned_words"
   ]
  },
  {
   "cell_type": "code",
   "execution_count": 11,
   "metadata": {
    "colab": {},
    "colab_type": "code",
    "id": "leYQKookv4ml"
   },
   "outputs": [],
   "source": [
    "cleaned_words = preprocess_words(words=words, stop_words=stop_words)"
   ]
  },
  {
   "cell_type": "code",
   "execution_count": 14,
   "metadata": {
    "colab": {
     "base_uri": "https://localhost:8080/",
     "height": 54
    },
    "colab_type": "code",
    "id": "uoKE69cAyFLQ",
    "outputId": "f05fea0d-510f-4cb1-8977-f52a83f3fa67"
   },
   "outputs": [
    {
     "data": {
      "text/plain": [
       "dict_keys(['for', 'years', 'countless', 'people', 'stood', 'front', 'united', 'nations', 'climate', 'conferences', 'asking', 'leaders', 'stop', 'emissions', 'but', 'clearly', 'worked', 'since', 'continue', 'rise', 'so', 'i', 'ask', 'anything', 'instead', 'media', 'start', 'treating', 'crisis', 'around', 'world', 'realize', 'political', 'failed', 'us', 'because', 'facing', 'existential', 'threat', 'time', 'road', 'madness', 'rich', 'countries', 'like', 'sweden', 'need', 'reducing', 'least', 'every', 'year', 'reach', 'degree', 'warming', 'target', 'you', 'would', 'think', 'everyone', 'talking', 'nothing', 'else', 'one', 'ever', 'even', 'mentions', 'nor', 'hardly', 'anyone', 'talk', 'midst', 'sixth', 'mass', 'extinction', 'species', 'going', 'extinct', 'single', 'day', 'furthermore', 'speak', 'aspect', 'equity', 'stated', 'everywhere', 'parisagreement', 'absolutely', 'necessary', 'make', 'work', 'global', 'scale', 'that', 'means', 'mine', 'get', 'zero', 'within', 'todays', 'emission', 'speed', 'poorer', 'highten', 'standard', 'living', 'building', 'infrastructure', 'already', 'built', 'such', 'hospitals', 'electricity', 'clean', 'drinking', 'water', 'expect', 'india', 'colombia', 'nigeria', 'care', 'everything', 'second', 'actual', 'commitments', 'paris', 'agreement', 'school', 'started', 'august', 'sat', 'ground', 'outside', 'swedish', 'parliament', 'striked', 'some', 'say', 'study', 'become', 'scientist', 'solve', 'solved', 'we', 'facts', 'solutions', 'and', 'studying', 'future', 'soon', 'may', 'save', 'point', 'learning', 'important', 'society', 'today', 'use', 'million', 'barrels', 'oil', 'there', 'politics', 'change', 'rules', 'keep', 'playing', 'changed', 'come', 'beg', 'they', 'ignored', 'past', 'ignore', 'let', 'know', 'coming', 'whether', 'the', 'challenge', 'behaving', 'children', 'take', 'responsibility', 'taken', 'long', 'ago', 'thank'])"
      ]
     },
     "execution_count": 14,
     "metadata": {},
     "output_type": "execute_result"
    }
   ],
   "source": [
    "FreqDist(cleaned_words).keys()"
   ]
  },
  {
   "cell_type": "code",
   "execution_count": 17,
   "metadata": {
    "colab": {},
    "colab_type": "code",
    "id": "eN3eoqgVXR11"
   },
   "outputs": [],
   "source": [
    "word_counts = pd.Series(FreqDist(cleaned_words)).sort_values(ascending=False)"
   ]
  },
  {
   "cell_type": "code",
   "execution_count": 25,
   "metadata": {
    "colab": {
     "base_uri": "https://localhost:8080/",
     "height": 295
    },
    "colab_type": "code",
    "id": "RCcETzuQyYgo",
    "outputId": "49610520-32d5-45f6-aae0-96bcc90bdb2e"
   },
   "outputs": [
    {
     "data": {
      "image/png": "[encoded data removed]",
      "text/plain": [
       "<Figure size 432x288 with 1 Axes>"
      ]
     },
     "metadata": {
      "needs_background": "light"
     },
     "output_type": "display_data"
    }
   ],
   "source": [
    "import seaborn as sns\n",
    "import matplotlib.pyplot as plt\n",
    "\n",
    "fig, ax = plt.subplots()\n",
    "sns.barplot(y=word_counts[:20].index, x=word_counts[:20].values, palette=\"rocket\")\n",
    "ax.set_title(\"Top 20 words used\");\n",
    "ax.set_xlabel(\"Count\");\n",
    "ax.set_ylabel(\"Words\");"
   ]
  },
  {
   "cell_type": "code",
   "execution_count": 19,
   "metadata": {
    "colab": {},
    "colab_type": "code",
    "id": "V_mHdulo0o3w"
   },
   "outputs": [],
   "source": [
    "word_tags = nltk.pos_tag(cleaned_words)"
   ]
  },
  {
   "cell_type": "code",
   "execution_count": 20,
   "metadata": {
    "colab": {
     "base_uri": "https://localhost:8080/",
     "height": 187
    },
    "colab_type": "code",
    "id": "G0UMtqmncoQj",
    "outputId": "1ca2c96b-2bf9-4ab8-859d-2cd1013d2bbe"
   },
   "outputs": [
    {
     "data": {
      "text/plain": [
       "[('for', 'IN'),\n",
       " ('years', 'NNS'),\n",
       " ('countless', 'JJ'),\n",
       " ('people', 'NNS'),\n",
       " ('stood', 'VBD'),\n",
       " ('front', 'JJ'),\n",
       " ('united', 'JJ'),\n",
       " ('nations', 'NNS'),\n",
       " ('climate', 'NN'),\n",
       " ('conferences', 'NNS')]"
      ]
     },
     "execution_count": 20,
     "metadata": {},
     "output_type": "execute_result"
    }
   ],
   "source": [
    "word_tags[:10]"
   ]
  },
  {
   "cell_type": "code",
   "execution_count": 21,
   "metadata": {
    "colab": {},
    "colab_type": "code",
    "id": "pxZClYdHi5ap"
   },
   "outputs": [],
   "source": [
    "nouns = [word[0] for word in word_tags if word[1] == 'NN']"
   ]
  },
  {
   "cell_type": "code",
   "execution_count": 22,
   "metadata": {
    "colab": {},
    "colab_type": "code",
    "id": "BTdMTDTlc_AE"
   },
   "outputs": [],
   "source": [
    "noun_counts = pd.Series(FreqDist(nouns)).sort_values(ascending=False)"
   ]
  },
  {
   "cell_type": "code",
   "execution_count": 26,
   "metadata": {
    "colab": {
     "base_uri": "https://localhost:8080/",
     "height": 295
    },
    "colab_type": "code",
    "id": "W5NQEhwCXdjb",
    "outputId": "3e0a3205-a71f-4528-9e08-59e5feac2516"
   },
   "outputs": [
    {
     "data": {
      "image/png": "[encoded data removed]",
      "text/plain": [
       "<Figure size 432x288 with 1 Axes>"
      ]
     },
     "metadata": {
      "needs_background": "light"
     },
     "output_type": "display_data"
    }
   ],
   "source": [
    "fig, ax = plt.subplots()\n",
    "sns.barplot(y=noun_counts[:20].index, x=noun_counts[:20].values, palette=\"rocket\")\n",
    "ax.set_title(\"Top 20 nouns used\");\n",
    "ax.set_xlabel(\"Count\");\n",
    "ax.set_ylabel(\"Words\");"
   ]
  },
  {
   "cell_type": "code",
   "execution_count": 24,
   "metadata": {
    "colab": {
     "base_uri": "https://localhost:8080/",
     "height": 11713
    },
    "colab_type": "code",
    "id": "VrxvKm2kQThE",
    "outputId": "39575f67-1b35-40c6-ad05-422f60302b0b"
   },
   "outputs": [
    {
     "ename": "NameError",
     "evalue": "name 'dictionary' is not defined",
     "output_type": "error",
     "traceback": [
      "\u001b[0;31m---------------------------------------------------------------------------\u001b[0m",
      "\u001b[0;31mNameError\u001b[0m                                 Traceback (most recent call last)",
      "\u001b[0;32m<ipython-input-24-3b57ba1f523f>\u001b[0m in \u001b[0;36m<module>\u001b[0;34m\u001b[0m\n\u001b[0;32m----> 1\u001b[0;31m \u001b[0mdd\u001b[0m \u001b[0;34m=\u001b[0m \u001b[0mdictionary\u001b[0m\u001b[0;34m.\u001b[0m\u001b[0mtoken2id\u001b[0m\u001b[0;34m\u001b[0m\u001b[0;34m\u001b[0m\u001b[0m\n\u001b[0m\u001b[1;32m      2\u001b[0m \u001b[0;34m[\u001b[0m\u001b[0;34m(\u001b[0m\u001b[0mk\u001b[0m\u001b[0;34m,\u001b[0m \u001b[0md\u001b[0m\u001b[0;34m[\u001b[0m\u001b[0mk\u001b[0m\u001b[0;34m]\u001b[0m\u001b[0;34m)\u001b[0m \u001b[0;32mfor\u001b[0m \u001b[0mk\u001b[0m \u001b[0;32min\u001b[0m \u001b[0msorted\u001b[0m\u001b[0;34m(\u001b[0m\u001b[0md\u001b[0m\u001b[0;34m,\u001b[0m \u001b[0mkey\u001b[0m\u001b[0;34m=\u001b[0m\u001b[0md\u001b[0m\u001b[0;34m.\u001b[0m\u001b[0mget\u001b[0m\u001b[0;34m,\u001b[0m \u001b[0mreverse\u001b[0m\u001b[0;34m=\u001b[0m\u001b[0;32mTrue\u001b[0m\u001b[0;34m)\u001b[0m\u001b[0;34m]\u001b[0m\u001b[0;34m\u001b[0m\u001b[0;34m\u001b[0m\u001b[0m\n",
      "\u001b[0;31mNameError\u001b[0m: name 'dictionary' is not defined"
     ]
    }
   ],
   "source": [
    "dd = dictionary.token2id\n",
    "[(k, d[k]) for k in sorted(d, key=d.get, reverse=True)]"
   ]
  },
  {
   "cell_type": "code",
   "execution_count": 0,
   "metadata": {
    "colab": {},
    "colab_type": "code",
    "id": "PzUz_cYrQ4rj"
   },
   "outputs": [],
   "source": []
  }
 ],
 "metadata": {
  "colab": {
   "collapsed_sections": [],
   "name": "speech_exploration.ipynb",
   "provenance": []
  },
  "kernelspec": {
   "display_name": "hacking",
   "language": "python",
   "name": "hacking"
  },
  "language_info": {
   "codemirror_mode": {
    "name": "ipython",
    "version": 3
   },
   "file_extension": ".py",
   "mimetype": "text/x-python",
   "name": "python",
   "nbconvert_exporter": "python",
   "pygments_lexer": "ipython3",
   "version": "3.7.2"
  }
 },
 "nbformat": 4,
 "nbformat_minor": 1
}
